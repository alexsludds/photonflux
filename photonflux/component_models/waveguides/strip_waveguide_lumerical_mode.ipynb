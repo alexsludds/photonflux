{
 "cells": [
  {
   "cell_type": "code",
   "execution_count": 1,
   "metadata": {},
   "outputs": [],
   "source": [
    "import sys, os\n",
    "sys.path.append(\"C:\\\\Program Files\\\\Lumerical\\\\v231\\\\api\\\\python\\\\\")\n",
    "import lumapi\n",
    "# sys.path.append(os.path.dirname(__file__))"
   ]
  },
  {
   "cell_type": "code",
   "execution_count": 2,
   "metadata": {},
   "outputs": [
    {
     "name": "stdout",
     "output_type": "stream",
     "text": [
      "['NA', '__class__', '__delattr__', '__dir__', '__doc__', '__eq__', '__format__', '__ge__', '__get__', '__getattribute__', '__gt__', '__hash__', '__init__', '__init_subclass__', '__le__', '__lt__', '__ne__', '__new__', '__reduce__', '__reduce_ex__', '__repr__', '__self__', '__self_class__', '__setattr__', '__sizeof__', '__str__', '__subclasshook__', '__thisclass__', 'actual mesh cells x', 'actual mesh cells y', 'actual mesh cells z', 'add material gain to maximum tolerated gain', 'algorithm', 'allow symmetry on all boundaries', 'angle', 'automatically remove pml modes', 'background material', 'beam diameter', 'beam direction', 'beam radius', 'bend location', 'bend location x', 'bend location y', 'bend location z', 'bend orientation', 'bend radius', 'bent waveguide', 'calculate characteristic impedance', 'calculate group index', 'calculate impedance', 'center frequency', 'center the spectrum', 'center wavelength', 'center x', 'center y', 'center z', 'characteristic impedance', 'conformal meshing refinement', 'convergence tolerance', 'correct backward propagating modes', 'correct backward propagating modes when pml is present', 'define gaussian beam by', 'define x mesh by', 'define y mesh by', 'define z mesh by', 'detailed dispersion calculation', 'distance from waist', 'divergence angle', 'dx', 'dy', 'dz', 'effective index', 'effective index data', 'enabled', 'farfield x', 'farfield x span', 'farfield y', 'farfield y span', 'fill lens', 'fit analytic materials', 'fit materials with multi-coefficient model', 'fit sampled materials', 'force symmetric x mesh', 'force symmetric y mesh', 'force symmetric z mesh', 'fraction integrated', 'fractional wavelength offset for detailed dispersion calculation', 'frequency', 'frequency span', 'frequency start', 'frequency stop', 'grading factor', 'helical waveguide', 'helix center x', 'helix center y', 'helix center z', 'helix period', 'index', 'integrate', 'integration shape', 'ldf file', 'lens diameter', 'material index', 'material properties', 'matlab', 'maximum number of modes to store', 'maximum tolerated gain', 'mesh cells x', 'mesh cells y', 'mesh cells z', 'mesh refinement', 'meshing refinement', 'meshing tolerance', 'min mesh step', 'n', 'n1', 'n2', 'name', 'normalize to', 'number of plane waves', 'number of points', 'number of test modes', 'number of trial modes', 'override default boundaries', 'phi', 'pml kappa', 'pml layers', 'pml polynomial', 'pml sigma', 'points in x', 'points in y', 'polarization angle', 'projection distance', 'projection method', 'radius', 'refractive index', 'sample resolution', 'sample span', 'search', 'selected modes', 'selected modes, far field angular', 'selected modes, far field approximate', 'selected modes, far field exact', 'shift d-card center', 'simulation temperature', 'solid', 'solver algorithm', 'solver type', 'start frequency', 'start wavelength', 'stop frequency', 'stop wavelength', 'store mode profiles while tracking', 'text file (column format)', 'text file (standard format)', 'theta', 'threshold for pml mode removal', 'track current mode', 'track selected mode', 'type', 'use fully vectorial thin lens beam profile', 'use legacy conformal interface detection', 'use max index', 'use mesh refinement', 'use relative coordinates', 'use single precision', 'waist radius', 'wavelength', 'wavelength span', 'wavelength start', 'wavelength stop', 'x', 'x max', 'x max bc', 'x min', 'x min bc', 'x shift', 'x span', 'x1', 'x2', 'y', 'y max', 'y max bc', 'y min', 'y min bc', 'y shift', 'y span', 'y1', 'y2', 'z', 'z max', 'z max bc', 'z min', 'z min bc', 'z shift', 'z span', 'z1', 'z2']\n",
      "['__class__', '__del__', '__delattr__', '__dict__', '__dir__', '__doc__', '__enter__', '__eq__', '__exit__', '__format__', '__ge__', '__getattr__', '__getattribute__', '__gt__', '__hash__', '__init__', '__init_subclass__', '__le__', '__lt__', '__module__', '__ne__', '__new__', '__reduce__', '__reduce_ex__', '__repr__', '__setattr__', '__sizeof__', '__str__', '__subclasshook__', '__weakref__', '_addUserFunctions', '_deleteUserFunctions', '_syncUserFunctions', 'abs', 'acos', 'add2dpoly', 'add2drect', 'add2visualizer', 'addanalysisgroup', 'addanalysisprop', 'addanalysisresult', 'addattribute', 'addcircle', 'addcustom', 'adddipole', 'addeffectiveindex', 'addeme', 'addemeindex', 'addemeport', 'addemeprofile', 'addfde', 'addgaussian', 'addgridattribute', 'addgroup', 'addimport', 'addindex', 'addjob', 'addlayer', 'addlayerbuilder', 'addmaterial', 'addmesh', 'addmode', 'addmodeexpansion', 'addmodesource', 'addmovie', 'addobject', 'addparameter', 'addpath', 'addplanarsolid', 'addplane', 'addpoly', 'addpower', 'addprofile', 'addpyramid', 'addrect', 'addresource', 'addring', 'addsphere', 'addstructuregroup', 'addsurface', 'addsweep', 'addsweepparameter', 'addsweepresult', 'addtfsf', 'addtime', 'addtogroup', 'addtriangle', 'adduserprop', 'addvarfdtd', 'addwaveguide', 'all', 'almostequal', 'amax', 'amin', 'analysis', 'and', 'angle', 'any', 'asapexport', 'asapload', 'asin', 'atan', 'atan2', 'bar', 'besseli', 'besselj', 'besselk', 'bessely', 'bestoverlap', 'bestoverlap2', 'buildmqwmaterial', 'c', 'cd', 'ceil', 'cell', 'centroid', 'chebin', 'chebpol', 'chebpol1', 'checkout', 'chol', 'chpts', 'clc', 'clear', 'clearanalysis', 'cleardataset', 'cleardcard', 'clearexcept', 'clearfunctions', 'clearjobs', 'clearmodedata', 'clearpath', 'clearportmodedata', 'clearsourcedata', 'close', 'closeall', 'closesession', 'cls', 'colormatch', 'colormatchfunction', 'colormatchuv', 'colormatchxy', 'conj', 'conv2', 'copy', 'copydcard', 'copymaterial', 'copyproperties', 'copysweep', 'copytoclipboard', 'corrcoef', 'correlationplot', 'corrtransf', 'cos', 'coupling', 'cov', 'cp', 'createbeam', 'cross', 'crosscorrelation', 'ctranspose', 'currentfilename', 'currentscriptname', 'cwnorm', 'czt', 'dcht', 'debug', 'delete', 'deleteall', 'deleteattribute', 'deletematerial', 'deleteresource', 'deletesweep', 'dipolepower', 'dir', 'dot', 'e', 'eig', 'emepropagate', 'emesweep', 'encryptprocess', 'encryptscript', 'endl', 'eps0', 'erf', 'erfc', 'erfcinv', 'erfinv', 'eval', 'evalremote', 'exist', 'exp', 'expand', 'expand2', 'exportassertasjunit', 'exportemesweep', 'exportfigure', 'exportmaterialdb', 'exportsweep', 'exportview', 'extractstructure', 'eye', 'farfield2d', 'farfield2dintegrate', 'farfield3d', 'farfield3dintegrate', 'farfieldangle', 'farfieldexact', 'farfieldexact2d', 'farfieldexact3d', 'farfieldfilter', 'farfieldpolar2d', 'farfieldpolar3d', 'farfieldsettings', 'farfieldspherical', 'farfieldux', 'farfielduy', 'farfieldvector2d', 'farfieldvector3d', 'feval', 'fft', 'fftk', 'fftw', 'filebasename', 'filedirectory', 'fileexists', 'fileexpand', 'fileextension', 'fileopendialog', 'filesavedialog', 'find', 'findmodes', 'findpeaks', 'findresonances', 'findstring', 'finite', 'fitlorentzpdf', 'fitnormpdf', 'fitpearson4pdf', 'flip', 'floor', 'frequencysweep', 'gdsaddcircle', 'gdsaddellipse', 'gdsaddpath', 'gdsaddpoly', 'gdsaddrect', 'gdsaddref', 'gdsaddtext', 'gdsbegincell', 'gdsclose', 'gdsendcell', 'gdsimport', 'gdsopen', 'gdsread', 'get', 'getAllSelectedObjects', 'getObjectById', 'getObjectBySelection', 'getactivesolver', 'getanalysis', 'getassertresults', 'getattribute', 'getcelllist', 'getcommands', 'getcontour', 'getdata', 'geteigensolver', 'getelectric', 'getemeanalysis', 'getemesweep', 'getfdtdindex', 'getfdtdsurfaceconductivity', 'getfield', 'getglobalmonitor', 'getglobalsource', 'getid', 'getindex', 'getlayer', 'getlayerlist', 'getlicenseversion', 'getmagnetic', 'getmaterial', 'getmeshcontours', 'getmeshfaces', 'getmodeindex', 'getname', 'getnamed', 'getnamednumber', 'getnumber', 'getnumericalpermittivity', 'getobjectlist', 'getparameter', 'getpath', 'getremotedata', 'getresource', 'getresult', 'getsolver', 'getsourceangle', 'getsurfaceconductivity', 'getsweep', 'getsweepdata', 'getsweepresult', 'getv', 'getview', 'grating', 'gratingangle', 'gratingbloch1', 'gratingbloch2', 'gratingm', 'gratingn', 'gratingordercount', 'gratingperiod1', 'gratingperiod2', 'gratingpolar', 'gratingu1', 'gratingu2', 'gratingvector', 'groupscope', 'h', 'h5info', 'h5read', 'h5readattr', 'handle', 'havedata', 'haveproperty', 'haveresult', 'havesweepdata', 'havesweepresult', 'hbar', 'help', 'histc', 'histogram', 'history', 'holdoff', 'holdon', 'icht', 'imag', 'image', 'importbinary', 'importbinary2', 'importcsvlc', 'importdataset', 'importmaterialdb', 'importnk', 'importnk2', 'importsurface', 'importsurface2', 'inpoly', 'insert', 'insertsweep', 'integrate', 'integrate2', 'interp', 'interptet', 'interptri', 'inv', 'invfft', 'iscell', 'isfield', 'isstruct', 'jsonload', 'jsonloads', 'jsonread', 'jsonreads', 'jsonsave', 'jsonsaves', 'jsonvalidate', 'jsonwrite', 'jsonwrites', 'killwizard', 'layoutmode', 'legend', 'length', 'linecross', 'lineintersect', 'linspace', 'listjobs', 'load', 'loaddata', 'loadgdsfile', 'loadprocessfile', 'loadsweep', 'log', 'log10', 'lognrnd', 'lookupappend', 'lookupclose', 'lookupopen', 'lookupread', 'lookupwrite', 'lorentzpdf', 'lower', 'ls', 'mapfind', 'materialexists', 'matlab', 'matlabget', 'matlabload', 'matlabput', 'matlabsave', 'matrix', 'matrixdataset', 'max', 'mean', 'median', 'mesh', 'meshgrid3dx', 'meshgrid3dy', 'meshgrid3dz', 'meshgrid4d', 'meshgridx', 'meshgridy', 'message', 'mie3d', 'mie3ds12', 'min', 'mod', 'move', 'mqwgain', 'mqwindex', 'mu0', 'mult', 'mv', 'new', 'newproject', 'newwizard', 'newwizardpage', 'nonorm', 'norm', 'normpdf', 'now', 'num2str', 'nummodes', 'ones', 'opensession', 'operatingsystem', 'optimizeposition', 'or', 'orbit', 'overlap', 'pastefromclipboard', 'pastesweep', 'pause', 'pearson4pdf', 'permute', 'pi', 'pinch', 'plot', 'plotxy', 'polar', 'polar2', 'polarimage', 'polyand', 'polyarea', 'polyclean', 'polydft', 'polydiff', 'polyfit', 'polygrow', 'polyintersect', 'polyor', 'polypieces', 'polystencil', 'polyxor', 'print', 'prod', 'propagate', 'putremotedata', 'putv', 'pwd', 'quadtet', 'quadtri', 'queryanalysisprop', 'queryanalysisresult', 'querynamed', 'queryuserprop', 'rand', 'randmatrix', 'randn', 'randnmatrix', 'randpearson4', 'randreset', 'read', 'readdata', 'readstltriangles', 'real', 'rectilineardataset', 'redo', 'redraw', 'redrawmode', 'redrawoff', 'redrawon', 'removeexpansion', 'removesweepparameter', 'removesweepresult', 'replace', 'replacestring', 'reshape', 'rm', 'round', 'run', 'runanalysis', 'runjobs', 'runsetup', 'runstartupscripts', 'runsweep', 'runwizard', 'save', 'savedata', 'savedcard', 'savegdsfile', 'saveprocessfile', 'savesweep', 'scorrcoef', 'scriptautorun', 'select', 'selectall', 'selectfigure', 'selectmode', 'selectpartial', 'set', 'setactivesolver', 'setanalysis', 'seteigensolver', 'setemeanalysis', 'setexpansion', 'setfield', 'setglobalmonitor', 'setglobalsource', 'setlayer', 'setmaterial', 'setname', 'setnamed', 'setplot', 'setresource', 'setsourcesignal', 'setsweep', 'setview', 'shiftselect', 'shiftselectpartial', 'sign', 'simulation', 'sin', 'size', 'smithchart', 'solar', 'solve', 'sort', 'sortmap', 'sourceintensity', 'sourceintensity_avg', 'sourceintensity_pavg', 'sourcenorm', 'sourcenorm2_avg', 'sourcenorm2_pavg', 'sourcepower', 'sourcepower_avg', 'sourcepower_pavg', 'spline', 'splitstring', 'sqrt', 'sroughness', 'stackdipole', 'stackfield', 'stackpurcell', 'stackrt', 'std', 'stlimport', 'str2num', 'struct', 'substring', 'sum', 'svd', 'switchtolayout', 'syncUserFunctionsFlag', 'system', 'tan', 'topoparamstogradient', 'topoparamstoindex', 'topoparamstominfeaturesizegradient', 'topoparamstominfeaturesizeindicator', 'toscript', 'transmission', 'transmission_avg', 'transmission_pavg', 'transpose', 'undo', 'unique', 'uniquevertices', 'unselectall', 'unstructureddataset', 'unwrap', 'updatemodes', 'updateportmodes', 'updatesourcemode', 'upper', 'userFunctions', 'var', 'vectorplot', 'version', 'viewundo', 'visualize', 'vtksave', 'which', 'wizarddata', 'wizardgetdata', 'wizardoption', 'wizardwidget', 'workspace', 'write', 'zbfexport', 'zbfload', 'zbfread', 'zbfwrite', 'zeros']\n"
     ]
    }
   ],
   "source": [
    "um = 1e-6\n",
    "width = 0.5*um\n",
    "height = 0.22*um\n",
    "mode1 = lumapi.MODE()\n",
    "rectangle = mode1.addrect(x = 0, y = 0.0, z = 0.0)\n",
    "rectangle[\"x span\"] = width\n",
    "rectangle[\"y span\"] = height\n",
    "rectangle[\"z span\"] = 10*um\n",
    "rectangle['name'] = 'strip_waveguide'\n",
    "rectangle['material'] = 'Si (Silicon) - Palik'\n",
    "\n",
    "expansion_monitor = mode1.addfde()\n",
    "expansion_monitor['x'] = 0\n",
    "expansion_monitor['y'] = 0\n",
    "expansion_monitor['z'] = 0\n",
    "expansion_monitor['x span'] = 20*um\n",
    "expansion_monitor['y span'] = 20*um\n",
    "expansion_monitor['background material'] = 'SiO2 (Glass) - Palik'\n",
    "expansion_monitor['start wavelength'] = 1.4e-6\n",
    "expansion_monitor['start wavelength'] = 1.6e-6\n",
    "\n",
    "mode1.switchtolayout()\n",
    "\n",
    "# expansion_monitor.findmodes()\n",
    "# expansion_monitor.run()\n",
    "print(dir(expansion_monitor))\n",
    "mode1.run()\n",
    "print(dir(mode1))\n",
    "# temp = mode1.selectmode(1)\n",
    "# print(temp)\n",
    "\n",
    "mode1.close()"
   ]
  },
  {
   "cell_type": "code",
   "execution_count": null,
   "metadata": {},
   "outputs": [],
   "source": []
  }
 ],
 "metadata": {
  "kernelspec": {
   "display_name": "base",
   "language": "python",
   "name": "python3"
  },
  "language_info": {
   "codemirror_mode": {
    "name": "ipython",
    "version": 3
   },
   "file_extension": ".py",
   "mimetype": "text/x-python",
   "name": "python",
   "nbconvert_exporter": "python",
   "pygments_lexer": "ipython3",
   "version": "3.9.13"
  },
  "orig_nbformat": 4,
  "vscode": {
   "interpreter": {
    "hash": "d7288e82646d3164eca24130947288f8779d11454649f2c02a5dfc42af7f324c"
   }
  }
 },
 "nbformat": 4,
 "nbformat_minor": 2
}
